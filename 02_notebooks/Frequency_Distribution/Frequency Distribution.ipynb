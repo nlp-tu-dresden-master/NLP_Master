{
 "cells": [
  {
   "cell_type": "markdown",
   "metadata": {},
   "source": [
    "# Frequency Distribution of words in corpora"
   ]
  },
  {
   "cell_type": "code",
   "execution_count": 1,
   "metadata": {},
   "outputs": [],
   "source": [
    "import nltk\n",
    "from models.Corpora import Corpora\n",
    "from nltk.corpus import stopwords\n",
    "from nltk.stem import WordNetLemmatizer\n",
    "from nltk.tokenize import RegexpTokenizer\n",
    "from nltk.tokenize import sent_tokenize\n",
    "from nltk.wsd import lesk\n",
    "import re\n",
    "import math\n",
    "from nltk import bigrams, trigrams\n",
    "%matplotlib inline  "
   ]
  },
  {
   "cell_type": "markdown",
   "metadata": {},
   "source": [
    "# Defining the algorithm \n",
    "Used: NLTK Frequency Distribution on cleaned corpora\n",
    "Note: Added plotting function to the bottom for notebook"
   ]
  },
  {
   "cell_type": "code",
   "execution_count": 2,
   "metadata": {},
   "outputs": [],
   "source": [
    "def get_most_common_tokens(name: str, amount: int, corpora: Corpora) -> list:\n",
    "    \"\"\"\n",
    "    This function searches for most relevant words in given corpus.\n",
    "    :param name: Name of the algorithm to get keywords from.\n",
    "    :return: list of relevant words\n",
    "    \"\"\"\n",
    "    text = corpora.raw_corpora[name.lower()]\n",
    "    # Tokenize without punctuation\n",
    "    tokenizer = RegexpTokenizer(r'\\w+')\n",
    "    words = tokenizer.tokenize(text)\n",
    "\n",
    "    # remove stopwords\n",
    "    stop_words = list(stopwords.words(\"english\"))\n",
    "    relevant_words = [w.lower() for w in words if w.lower() not in stop_words]\n",
    "\n",
    "    # Lemmatize words\n",
    "    lemmatizer = WordNetLemmatizer()\n",
    "    lemmatized_words = [lemmatizer.lemmatize(w) for w in relevant_words]\n",
    "\n",
    "    freq_distribution = nltk.FreqDist(lemmatized_words)\n",
    "    freq_distribution.plot(amount, cumulative=False)\n",
    "    \n",
    "    print(\"Top {} {} Terms:\".format(amount, name.lower()))\n",
    "    for item in freq_distribution.most_common(amount):\n",
    "        print(item)\n",
    "        \n",
    "    return freq_distribution.most_common(amount)"
   ]
  },
  {
   "cell_type": "code",
   "execution_count": 8,
   "metadata": {},
   "outputs": [
    {
     "data": {
      "image/png": "[encoded data removed]",
      "text/plain": [
       "<matplotlib.figure.Figure at 0x1a16ee9198>"
      ]
     },
     "metadata": {},
     "output_type": "display_data"
    },
    {
     "name": "stdout",
     "output_type": "stream",
     "text": [
      "Top 15 clustering Terms:\n",
      "('cluster', 28)\n",
      "('object', 24)\n",
      "('data', 22)\n",
      "('group', 21)\n",
      "('clustering', 17)\n",
      "('similar', 10)\n",
      "('similarity', 9)\n",
      "('instance', 9)\n",
      "('analysis', 6)\n",
      "('may', 6)\n",
      "('based', 5)\n",
      "('technique', 5)\n",
      "('customer', 4)\n",
      "('goal', 4)\n",
      "('within', 4)\n"
     ]
    }
   ],
   "source": [
    "from models import Corpora\n",
    "from models import Topic_Engine\n",
    "\n",
    "corp = Corpora([\"Clustering\"], [\"01_data/01_Clustering_definitions\"])\n",
    "corp.build_all_corpora_for_new_algorithm_type(\"Classification\", \"01_data/02_Classification_definitions\")\n",
    "\n",
    "result = get_most_common_tokens(\"clustering\", 15, corp)"
   ]
  },
  {
   "cell_type": "code",
   "execution_count": null,
   "metadata": {},
   "outputs": [],
   "source": []
  }
 ],
 "metadata": {
  "kernelspec": {
   "display_name": "Python 3",
   "language": "python",
   "name": "python3"
  },
  "language_info": {
   "codemirror_mode": {
    "name": "ipython",
    "version": 3
   },
   "file_extension": ".py",
   "mimetype": "text/x-python",
   "name": "python",
   "nbconvert_exporter": "python",
   "pygments_lexer": "ipython3",
   "version": "3.6.4"
  }
 },
 "nbformat": 4,
 "nbformat_minor": 2
}
